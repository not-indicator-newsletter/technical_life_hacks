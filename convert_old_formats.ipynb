{
 "cells": [
  {
   "cell_type": "code",
   "execution_count": null,
   "id": "7a1d05ed-a52c-4988-8ba5-a72397bf4858",
   "metadata": {},
   "outputs": [],
   "source": []
  },
  {
   "cell_type": "code",
   "execution_count": null,
   "id": "30595626-c420-42b5-90fd-54a828898a55",
   "metadata": {},
   "outputs": [],
   "source": [
    "# устанавливаем библиотеку\n",
    "\n",
    "#!pip install pywin32"
   ]
  },
  {
   "cell_type": "code",
   "execution_count": null,
   "id": "6a69b71b-0af7-4b5f-878a-5cdaa6942822",
   "metadata": {},
   "outputs": [],
   "source": [
    "# загружаю нужные библиотеки\n",
    "\n",
    "# для работы с файлами\n",
    "import os\n",
    "\n",
    "# для работы с doc-файлами\n",
    "import win32com.client\n",
    "\n",
    "# прогресс-бар\n",
    "from tqdm.notebook import trange, tqdm\n",
    "from tqdm.contrib import tzip # для zip последовательности"
   ]
  },
  {
   "cell_type": "code",
   "execution_count": null,
   "id": "758c70bf-0292-4e4f-a9d9-10e68d5142e3",
   "metadata": {},
   "outputs": [],
   "source": [
    "# путь к папке\n",
    "file_path = f'{input()}\\\\'"
   ]
  },
  {
   "cell_type": "code",
   "execution_count": null,
   "id": "51b1d2ba-6a4b-43ed-a56b-ff9fbf6ef135",
   "metadata": {},
   "outputs": [],
   "source": [
    "# кортеж с расширениями старых форматов\n",
    "old_formats = ('.doc', '.xls', '.rtf')  # Только .doc и .xls"
   ]
  },
  {
   "cell_type": "code",
   "execution_count": null,
   "id": "de72a89e-0ad1-496e-8e2d-5215ba03ba18",
   "metadata": {},
   "outputs": [],
   "source": [
    "# функция, которая составляет список файлов\n",
    "\n",
    "def create_files_list(path, need_ext):\n",
    "    need_files_paths = [] # список для файлов\n",
    "    \n",
    "    for root, dirs, files in os.walk(path): # цикл, который рекурсивно проходит по всем папкам и подпапкам\n",
    "        for file in files: # цикл по всем файлам\n",
    "            if file.lower().endswith(old_formats): # фильтруем имена файлов по расширению\n",
    "                \n",
    "                full_path_temp = os.path.join(root, file) # полный путь к файлу\n",
    "                need_files_paths.append(full_path_temp) # добавляем полный путь в список\n",
    "\n",
    "    return need_files_paths"
   ]
  },
  {
   "cell_type": "code",
   "execution_count": null,
   "id": "75139966-bb94-4c96-ad3b-f3c7aad3d110",
   "metadata": {},
   "outputs": [],
   "source": [
    "# функция для конвертирования старых вордовских файлов\n",
    "\n",
    "def convert_doc_rtf_to_docx(old_file_path):\n",
    "    \n",
    "    # запускаем приложение\n",
    "    word = win32com.client.Dispatch('Word.Application')\n",
    "    word.Visible = False\n",
    "    word.DisplayAlerts = False # отключаем уведомления\n",
    "\n",
    "    # конвертируем файл\n",
    "    doc = word.Documents.Open(old_file_path)\n",
    "    doc.SaveAs(f'{old_file_path[:-4]}.docx', FileFormat=16)  # 16 — формат wdFormatDocumentDefault (.docx)\n",
    "    doc.Close()\n",
    "    \n",
    "    # удаляем старый файл\n",
    "    os.remove(old_file_path)"
   ]
  },
  {
   "cell_type": "code",
   "execution_count": null,
   "id": "76e22be8-6944-44cf-b040-75e5694e511b",
   "metadata": {},
   "outputs": [],
   "source": [
    "# функция для конвертирования xls\n",
    "\n",
    "def convert_xls_to_xlsx(old_file_path):\n",
    "    \n",
    "    # запускаем приложение\n",
    "    excel = win32com.client.Dispatch(\"Excel.Application\")\n",
    "    excel.Visible = False # невидимый режим\n",
    "    excel.DisplayAlerts = False # отключаем уведомления\n",
    "    \n",
    "    # конвертируем файл\n",
    "    workbook = excel.Workbooks.Open(old_file_path)\n",
    "    workbook.SaveAs(f'{old_file_path[:-4]}.xlsx', FileFormat=51)  # 51 = xlOpenXMLWorkbook (.xlsx)\n",
    "    workbook.Close()\n",
    "    \n",
    "    # удаляем старый файл\n",
    "    os.remove(old_file_path)"
   ]
  },
  {
   "cell_type": "code",
   "execution_count": null,
   "id": "56b411da-06d4-4a3f-ad8d-57efa689b7f1",
   "metadata": {},
   "outputs": [],
   "source": [
    "# получаем список файлов\n",
    "old_file_list = create_files_list(file_path, old_formats)"
   ]
  },
  {
   "cell_type": "code",
   "execution_count": null,
   "id": "e8870875-730f-47ca-877d-2cccc0f9c935",
   "metadata": {},
   "outputs": [],
   "source": [
    "# цикл, который проходит по списку и конвертирует файлы\n",
    "\n",
    "for one_file in tqdm(old_file_list):\n",
    "\n",
    "    try: # пропускаем ошибки, связанные с запретом изменять файлы\n",
    "        if one_file.split('.')[-1].lower() == 'xls':\n",
    "            convert_xls_to_xlsx(one_file)\n",
    "        else:\n",
    "            convert_doc_rtf_to_docx(one_file)\n",
    "    \n",
    "    except:\n",
    "        pass"
   ]
  },
  {
   "cell_type": "code",
   "execution_count": null,
   "id": "6739d283-49c2-4191-9a09-568a2cf6df4b",
   "metadata": {},
   "outputs": [],
   "source": []
  }
 ],
 "metadata": {
  "kernelspec": {
   "display_name": "Python 3 (ipykernel)",
   "language": "python",
   "name": "python3"
  },
  "language_info": {
   "codemirror_mode": {
    "name": "ipython",
    "version": 3
   },
   "file_extension": ".py",
   "mimetype": "text/x-python",
   "name": "python",
   "nbconvert_exporter": "python",
   "pygments_lexer": "ipython3",
   "version": "3.12.3"
  }
 },
 "nbformat": 4,
 "nbformat_minor": 5
}
